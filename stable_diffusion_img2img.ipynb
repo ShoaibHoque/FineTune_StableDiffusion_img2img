{
 "cells": [
  {
   "cell_type": "markdown",
   "metadata": {},
   "source": [
    "Generate Paired Data for Denoising"
   ]
  },
  {
   "cell_type": "code",
   "execution_count": 2,
   "metadata": {},
   "outputs": [
    {
     "name": "stdout",
     "output_type": "stream",
     "text": [
      "Paired noisy-clean dataset created!\n"
     ]
    }
   ],
   "source": [
    "import os\n",
    "import numpy as np\n",
    "from PIL import Image\n",
    "import random\n",
    "\n",
    "def add_noise(image, noise_level=50):\n",
    "    \"\"\"\n",
    "    Adds Gaussian noise to an image.\n",
    "    Args:\n",
    "        image (PIL.Image): Input image.\n",
    "        noise_level (int): Standard deviation of the Gaussian noise.\n",
    "    Returns:\n",
    "        PIL.Image: Noisy image.\n",
    "    \"\"\"\n",
    "    np_image = np.array(image).astype(np.float32)\n",
    "    noise = np.random.normal(0, noise_level, np_image.shape)\n",
    "    noisy_image = np_image + noise\n",
    "    noisy_image = np.clip(noisy_image, 0, 255).astype(np.uint8)\n",
    "    return Image.fromarray(noisy_image)\n",
    "\n",
    "# Directories for saving\n",
    "os.makedirs('./paired_data/input', exist_ok=True)\n",
    "os.makedirs('./paired_data/target', exist_ok=True)\n",
    "\n",
    "# Generate paired data\n",
    "data_dir = './clean_images'  # Replace with the directory of your clean images\n",
    "for i, file_name in enumerate(os.listdir(data_dir)):\n",
    "    image_path = os.path.join(data_dir, file_name)\n",
    "    image = Image.open(image_path).convert(\"RGB\")\n",
    "\n",
    "    noisy_image = add_noise(image, noise_level=random.randint(15, 70))  # Add random noise level\n",
    "\n",
    "    noisy_image.save(f'./paired_data/input/noisy_{i}.jpg')\n",
    "    image.save(f'./paired_data/target/clean_{i}.jpg')\n",
    "\n",
    "print(\"Paired noisy-clean dataset created!\")\n"
   ]
  }
 ],
 "metadata": {
  "kernelspec": {
   "display_name": "Python 3",
   "language": "python",
   "name": "python3"
  },
  "language_info": {
   "codemirror_mode": {
    "name": "ipython",
    "version": 3
   },
   "file_extension": ".py",
   "mimetype": "text/x-python",
   "name": "python",
   "nbconvert_exporter": "python",
   "pygments_lexer": "ipython3",
   "version": "3.12.7"
  }
 },
 "nbformat": 4,
 "nbformat_minor": 2
}
